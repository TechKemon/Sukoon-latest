{
  "nbformat": 4,
  "nbformat_minor": 0,
  "metadata": {
    "colab": {
      "provenance": [],
      "gpuType": "T4"
    },
    "kernelspec": {
      "name": "python3",
      "display_name": "Python 3"
    },
    "language_info": {
      "name": "python"
    },
    "accelerator": "GPU",
    "widgets": {
      "application/vnd.jupyter.widget-state+json": {
        "e4e7d527877242e583ddc4670769d054": {
          "model_module": "@jupyter-widgets/controls",
          "model_name": "HBoxModel",
          "model_module_version": "1.5.0",
          "state": {
            "_dom_classes": [],
            "_model_module": "@jupyter-widgets/controls",
            "_model_module_version": "1.5.0",
            "_model_name": "HBoxModel",
            "_view_count": null,
            "_view_module": "@jupyter-widgets/controls",
            "_view_module_version": "1.5.0",
            "_view_name": "HBoxView",
            "box_style": "",
            "children": [
              "IPY_MODEL_c19d9c2a33ca46499742071e82655383",
              "IPY_MODEL_b02e80507e6c450789ac526dcc454c69",
              "IPY_MODEL_29eb442768444f27930f62a9eb25a65d"
            ],
            "layout": "IPY_MODEL_860b8e0ecc60464d9f41f14303d75c40"
          }
        },
        "c19d9c2a33ca46499742071e82655383": {
          "model_module": "@jupyter-widgets/controls",
          "model_name": "HTMLModel",
          "model_module_version": "1.5.0",
          "state": {
            "_dom_classes": [],
            "_model_module": "@jupyter-widgets/controls",
            "_model_module_version": "1.5.0",
            "_model_name": "HTMLModel",
            "_view_count": null,
            "_view_module": "@jupyter-widgets/controls",
            "_view_module_version": "1.5.0",
            "_view_name": "HTMLView",
            "description": "",
            "description_tooltip": null,
            "layout": "IPY_MODEL_a426ab3f1714493788852d854141cfdd",
            "placeholder": "​",
            "style": "IPY_MODEL_f6ea59fbe3b44930a060a78c6cf1812c",
            "value": "Map: 100%"
          }
        },
        "b02e80507e6c450789ac526dcc454c69": {
          "model_module": "@jupyter-widgets/controls",
          "model_name": "FloatProgressModel",
          "model_module_version": "1.5.0",
          "state": {
            "_dom_classes": [],
            "_model_module": "@jupyter-widgets/controls",
            "_model_module_version": "1.5.0",
            "_model_name": "FloatProgressModel",
            "_view_count": null,
            "_view_module": "@jupyter-widgets/controls",
            "_view_module_version": "1.5.0",
            "_view_name": "ProgressView",
            "bar_style": "success",
            "description": "",
            "description_tooltip": null,
            "layout": "IPY_MODEL_43063727783c4b9caa9787f09bbefb87",
            "max": 96,
            "min": 0,
            "orientation": "horizontal",
            "style": "IPY_MODEL_d5419c89b11f44bc8ca7a60ceba55a06",
            "value": 96
          }
        },
        "29eb442768444f27930f62a9eb25a65d": {
          "model_module": "@jupyter-widgets/controls",
          "model_name": "HTMLModel",
          "model_module_version": "1.5.0",
          "state": {
            "_dom_classes": [],
            "_model_module": "@jupyter-widgets/controls",
            "_model_module_version": "1.5.0",
            "_model_name": "HTMLModel",
            "_view_count": null,
            "_view_module": "@jupyter-widgets/controls",
            "_view_module_version": "1.5.0",
            "_view_name": "HTMLView",
            "description": "",
            "description_tooltip": null,
            "layout": "IPY_MODEL_041a5b2007e64ff7b30e3881a5bd0e2f",
            "placeholder": "​",
            "style": "IPY_MODEL_d8a25c9b1bac42ab844634239ac5e2bd",
            "value": " 96/96 [00:00&lt;00:00, 412.03 examples/s]"
          }
        },
        "860b8e0ecc60464d9f41f14303d75c40": {
          "model_module": "@jupyter-widgets/base",
          "model_name": "LayoutModel",
          "model_module_version": "1.2.0",
          "state": {
            "_model_module": "@jupyter-widgets/base",
            "_model_module_version": "1.2.0",
            "_model_name": "LayoutModel",
            "_view_count": null,
            "_view_module": "@jupyter-widgets/base",
            "_view_module_version": "1.2.0",
            "_view_name": "LayoutView",
            "align_content": null,
            "align_items": null,
            "align_self": null,
            "border": null,
            "bottom": null,
            "display": null,
            "flex": null,
            "flex_flow": null,
            "grid_area": null,
            "grid_auto_columns": null,
            "grid_auto_flow": null,
            "grid_auto_rows": null,
            "grid_column": null,
            "grid_gap": null,
            "grid_row": null,
            "grid_template_areas": null,
            "grid_template_columns": null,
            "grid_template_rows": null,
            "height": null,
            "justify_content": null,
            "justify_items": null,
            "left": null,
            "margin": null,
            "max_height": null,
            "max_width": null,
            "min_height": null,
            "min_width": null,
            "object_fit": null,
            "object_position": null,
            "order": null,
            "overflow": null,
            "overflow_x": null,
            "overflow_y": null,
            "padding": null,
            "right": null,
            "top": null,
            "visibility": null,
            "width": null
          }
        },
        "a426ab3f1714493788852d854141cfdd": {
          "model_module": "@jupyter-widgets/base",
          "model_name": "LayoutModel",
          "model_module_version": "1.2.0",
          "state": {
            "_model_module": "@jupyter-widgets/base",
            "_model_module_version": "1.2.0",
            "_model_name": "LayoutModel",
            "_view_count": null,
            "_view_module": "@jupyter-widgets/base",
            "_view_module_version": "1.2.0",
            "_view_name": "LayoutView",
            "align_content": null,
            "align_items": null,
            "align_self": null,
            "border": null,
            "bottom": null,
            "display": null,
            "flex": null,
            "flex_flow": null,
            "grid_area": null,
            "grid_auto_columns": null,
            "grid_auto_flow": null,
            "grid_auto_rows": null,
            "grid_column": null,
            "grid_gap": null,
            "grid_row": null,
            "grid_template_areas": null,
            "grid_template_columns": null,
            "grid_template_rows": null,
            "height": null,
            "justify_content": null,
            "justify_items": null,
            "left": null,
            "margin": null,
            "max_height": null,
            "max_width": null,
            "min_height": null,
            "min_width": null,
            "object_fit": null,
            "object_position": null,
            "order": null,
            "overflow": null,
            "overflow_x": null,
            "overflow_y": null,
            "padding": null,
            "right": null,
            "top": null,
            "visibility": null,
            "width": null
          }
        },
        "f6ea59fbe3b44930a060a78c6cf1812c": {
          "model_module": "@jupyter-widgets/controls",
          "model_name": "DescriptionStyleModel",
          "model_module_version": "1.5.0",
          "state": {
            "_model_module": "@jupyter-widgets/controls",
            "_model_module_version": "1.5.0",
            "_model_name": "DescriptionStyleModel",
            "_view_count": null,
            "_view_module": "@jupyter-widgets/base",
            "_view_module_version": "1.2.0",
            "_view_name": "StyleView",
            "description_width": ""
          }
        },
        "43063727783c4b9caa9787f09bbefb87": {
          "model_module": "@jupyter-widgets/base",
          "model_name": "LayoutModel",
          "model_module_version": "1.2.0",
          "state": {
            "_model_module": "@jupyter-widgets/base",
            "_model_module_version": "1.2.0",
            "_model_name": "LayoutModel",
            "_view_count": null,
            "_view_module": "@jupyter-widgets/base",
            "_view_module_version": "1.2.0",
            "_view_name": "LayoutView",
            "align_content": null,
            "align_items": null,
            "align_self": null,
            "border": null,
            "bottom": null,
            "display": null,
            "flex": null,
            "flex_flow": null,
            "grid_area": null,
            "grid_auto_columns": null,
            "grid_auto_flow": null,
            "grid_auto_rows": null,
            "grid_column": null,
            "grid_gap": null,
            "grid_row": null,
            "grid_template_areas": null,
            "grid_template_columns": null,
            "grid_template_rows": null,
            "height": null,
            "justify_content": null,
            "justify_items": null,
            "left": null,
            "margin": null,
            "max_height": null,
            "max_width": null,
            "min_height": null,
            "min_width": null,
            "object_fit": null,
            "object_position": null,
            "order": null,
            "overflow": null,
            "overflow_x": null,
            "overflow_y": null,
            "padding": null,
            "right": null,
            "top": null,
            "visibility": null,
            "width": null
          }
        },
        "d5419c89b11f44bc8ca7a60ceba55a06": {
          "model_module": "@jupyter-widgets/controls",
          "model_name": "ProgressStyleModel",
          "model_module_version": "1.5.0",
          "state": {
            "_model_module": "@jupyter-widgets/controls",
            "_model_module_version": "1.5.0",
            "_model_name": "ProgressStyleModel",
            "_view_count": null,
            "_view_module": "@jupyter-widgets/base",
            "_view_module_version": "1.2.0",
            "_view_name": "StyleView",
            "bar_color": null,
            "description_width": ""
          }
        },
        "041a5b2007e64ff7b30e3881a5bd0e2f": {
          "model_module": "@jupyter-widgets/base",
          "model_name": "LayoutModel",
          "model_module_version": "1.2.0",
          "state": {
            "_model_module": "@jupyter-widgets/base",
            "_model_module_version": "1.2.0",
            "_model_name": "LayoutModel",
            "_view_count": null,
            "_view_module": "@jupyter-widgets/base",
            "_view_module_version": "1.2.0",
            "_view_name": "LayoutView",
            "align_content": null,
            "align_items": null,
            "align_self": null,
            "border": null,
            "bottom": null,
            "display": null,
            "flex": null,
            "flex_flow": null,
            "grid_area": null,
            "grid_auto_columns": null,
            "grid_auto_flow": null,
            "grid_auto_rows": null,
            "grid_column": null,
            "grid_gap": null,
            "grid_row": null,
            "grid_template_areas": null,
            "grid_template_columns": null,
            "grid_template_rows": null,
            "height": null,
            "justify_content": null,
            "justify_items": null,
            "left": null,
            "margin": null,
            "max_height": null,
            "max_width": null,
            "min_height": null,
            "min_width": null,
            "object_fit": null,
            "object_position": null,
            "order": null,
            "overflow": null,
            "overflow_x": null,
            "overflow_y": null,
            "padding": null,
            "right": null,
            "top": null,
            "visibility": null,
            "width": null
          }
        },
        "d8a25c9b1bac42ab844634239ac5e2bd": {
          "model_module": "@jupyter-widgets/controls",
          "model_name": "DescriptionStyleModel",
          "model_module_version": "1.5.0",
          "state": {
            "_model_module": "@jupyter-widgets/controls",
            "_model_module_version": "1.5.0",
            "_model_name": "DescriptionStyleModel",
            "_view_count": null,
            "_view_module": "@jupyter-widgets/base",
            "_view_module_version": "1.2.0",
            "_view_name": "StyleView",
            "description_width": ""
          }
        }
      }
    }
  },
  "cells": [
    {
      "cell_type": "code",
      "execution_count": null,
      "metadata": {
        "id": "XqGr91Z2eBs7"
      },
      "outputs": [],
      "source": [
        "#sample dataset containing 2 classes : Depressed and Normal\n",
        "data = [\n",
        "    (\"I've been feeling quite good lately, enjoying my hobbies and spending time with friends.\", \"Normal\"),\n",
        "    (\"I don't feel like doing anything anymore. Everything seems pointless.\", \"Depressed\"),\n",
        "    (\"I'm feeling pretty stable these days, not much bothers me.\", \"Normal\"),\n",
        "    (\"Waking up in the morning is a struggle. I feel drained and empty.\", \"Depressed\"),\n",
        "    (\"I find pleasure in small things and feel content with my life.\", \"Normal\"),\n",
        "    (\"Nothing interests me anymore, and I can't shake this feeling of sadness.\", \"Depressed\"),\n",
        "    (\"I've been productive and focused, achieving my goals without much stress.\", \"Normal\"),\n",
        "    (\"Every day feels the same, and I just want to disappear.\", \"Depressed\"),\n",
        "    (\"I feel connected with my loved ones and enjoy our time together.\", \"Normal\"),\n",
        "    (\"It's hard to even get out of bed; everything feels heavy and overwhelming.\", \"Depressed\"),\n",
        "    (\"My mood has been stable, and I'm coping well with daily challenges.\", \"Normal\"),\n",
        "    (\"I don't see the point in talking to anyone. I feel so isolated and alone.\", \"Depressed\"),\n",
        "    (\"I've been laughing more and feeling optimistic about the future.\", \"Normal\"),\n",
        "    (\"Nothing makes me happy anymore; I feel numb.\", \"Depressed\"),\n",
        "    (\"I'm at peace with where I am in life and look forward to what's next.\", \"Normal\"),\n",
        "    (\"I cry for no reason, and the sadness won't go away.\", \"Depressed\"),\n",
        "    (\"I feel energized and motivated to take on new projects.\", \"Normal\"),\n",
        "    (\"It's like a dark cloud is hanging over me, and I can't escape it.\", \"Depressed\"),\n",
        "    (\"I've been feeling emotionally balanced and content.\", \"Normal\"),\n",
        "    (\"I don't care about anything anymore. Life just feels so bleak.\", \"Depressed\"),\n",
        "    (\"I'm happy with my life and the progress I'm making.\", \"Normal\"),\n",
        "    (\"The sadness never leaves, and I feel hopeless all the time.\", \"Depressed\"),\n",
        "    (\"I've been enjoying my work and feeling satisfied with my achievements.\", \"Normal\"),\n",
        "    (\"I feel like I'm drowning in despair and can't find a way out.\", \"Depressed\"),\n",
        "    (\"I'm feeling well and enjoying time with my family.\", \"Normal\"),\n",
        "    (\"I don't see a future for myself; everything seems so dark.\", \"Depressed\"),\n",
        "    (\"I'm able to relax and enjoy my free time.\", \"Normal\"),\n",
        "    (\"It's hard to even smile; I feel so down and out.\", \"Depressed\"),\n",
        "    (\"I've been feeling calm and at ease with my life.\", \"Normal\"),\n",
        "    (\"The weight of my thoughts is crushing me, and I feel so low.\", \"Depressed\"),\n",
        "    (\"I'm looking forward to the weekend and spending time outdoors.\", \"Normal\"),\n",
        "    (\"I can't find joy in anything; I feel so empty inside.\", \"Depressed\"),\n",
        "    (\"I've been feeling good about my relationships and personal growth.\", \"Normal\"),\n",
        "    (\"The sadness is overwhelming, and I can't see a way through it.\", \"Depressed\"),\n",
        "    (\"I feel relaxed and content with how things are going.\", \"Normal\"),\n",
        "    (\"I can't stop thinking about how worthless I feel.\", \"Depressed\"),\n",
        "    (\"I've been in a positive mood and enjoying life's little moments.\", \"Normal\"),\n",
        "    (\"I feel so detached from everything, like I'm just going through the motions.\", \"Depressed\"),\n",
        "    (\"I've been handling stress well and staying optimistic.\", \"Normal\"),\n",
        "    (\"It's like a constant fog of sadness that won't lift.\", \"Depressed\"),\n",
        "    (\"I'm enjoying my hobbies and finding fulfillment in my daily routine.\", \"Normal\"),\n",
        "    (\"I feel so lost and hopeless, like there's no point in anything.\", \"Depressed\"),\n",
        "    (\"I've been feeling happy and content with my progress in life.\", \"Normal\"),\n",
        "    (\"I don't want to be around people; I just want to be alone in my sadness.\", \"Depressed\"),\n",
        "    (\"I'm in a good place emotionally, feeling positive and hopeful.\", \"Normal\"),\n",
        "    (\"Everything feels meaningless, and I can't escape the sadness.\", \"Depressed\"),\n",
        "    (\"I've been feeling good about myself and my future.\", \"Normal\"),\n",
        "    (\"I can't find the strength to face the day; everything feels so dark.\", \"Depressed\"),\n",
        "    (\"I'm at peace with my life and enjoying my time with loved ones.\", \"Normal\"),\n",
        "    (\"I feel like I'm just existing, not really living.\", \"Depressed\"),\n",
        "    (\"I've been feeling upbeat and looking forward to new experiences.\", \"Normal\"),\n",
        "    (\"The sadness never leaves, and I feel like I'm stuck in a dark hole.\", \"Depressed\"),\n",
        "    (\"I'm enjoying my life and feel grateful for what I have.\", \"Normal\"),\n",
        "    (\"I can't seem to escape these negative thoughts; they consume me.\", \"Depressed\"),\n",
        "    (\"I'm feeling positive about my future and the direction I'm heading.\", \"Normal\"),\n",
        "    (\"It's hard to get through the day without feeling completely overwhelmed.\", \"Depressed\"),\n",
        "    (\"I'm feeling good about where I am and the progress I'm making.\", \"Normal\"),\n",
        "    (\"I feel so disconnected from the world around me.\", \"Depressed\"),\n",
        "    (\"I've been happy and content with my work-life balance.\", \"Normal\"),\n",
        "    (\"Nothing brings me joy anymore, and I feel so empty.\", \"Depressed\"),\n",
        "    (\"I'm satisfied with how things are going in my life.\", \"Normal\"),\n",
        "    (\"The sadness is relentless, and I can't seem to shake it off.\", \"Depressed\"),\n",
        "    (\"I've been feeling good about my health and overall well-being.\", \"Normal\"),\n",
        "    (\"I feel like I'm trapped in my own mind, and I can't get out.\", \"Depressed\"),\n",
        "    (\"I've been content with my life and enjoying my daily routine.\", \"Normal\"),\n",
        "    (\"Everything feels so heavy, like I'm carrying the weight of the world.\", \"Depressed\"),\n",
        "    (\"I'm in a good mood and feeling positive about the future.\", \"Normal\"),\n",
        "    (\"The sadness is overwhelming, and I feel so alone.\", \"Depressed\"),\n",
        "    (\"I've been feeling emotionally stable and content with my life.\", \"Normal\"),\n",
        "    (\"I feel like I'm drowning in a sea of sadness, and there's no way out.\", \"Depressed\"),\n",
        "    (\"I've been feeling good and enjoying the little things in life.\", \"Normal\"),\n",
        "    (\"I feel so hopeless and can't find a way to move forward.\", \"Depressed\"),\n",
        "    (\"I'm feeling positive about the direction my life is taking.\", \"Normal\"),\n",
        "    (\"The sadness is always there, lurking in the background.\", \"Depressed\"),\n",
        "    (\"I've been feeling well and content with where I am in life.\", \"Normal\"),\n",
        "    (\"I feel like I'm just going through the motions, not really living.\", \"Depressed\"),\n",
        "    (\"I'm happy with how things are going in my life and feel at peace.\", \"Normal\"),\n",
        "    (\"The sadness is overwhelming, and I can't escape it.\", \"Depressed\"),\n",
        "    (\"I've been feeling optimistic about the future and excited about new opportunities.\", \"Normal\"),\n",
        "    (\"I feel so empty inside, like nothing matters anymore.\", \"Depressed\"),\n",
        "    (\"I'm satisfied with how things are going and feeling positive about the future.\", \"Normal\"),\n",
        "    (\"The sadness is suffocating, and I can't breathe.\", \"Depressed\"),\n",
        "    (\"I've been feeling happy and content with my relationships and personal growth.\", \"Normal\"),\n",
        "    (\"I feel like I'm stuck in a dark place, and I can't find a way out.\", \"Depressed\"),\n",
        "    (\"I've been feeling good about my life and the direction I'm heading.\", \"Normal\"),\n",
        "    (\"The sadness is overwhelming, and I can't escape this darkness.\", \"Depressed\"),\n",
        "    (\"I'm feeling positive and looking forward to the future.\", \"Normal\"),\n",
        "    (\"I feel so lost and alone, like no one understands me.\", \"Depressed\"),\n",
        "    (\"I've been feeling content with my life and the progress I've made.\", \"Normal\"),\n",
        "    (\"The sadness never leaves, and I can't see a way out.\", \"Depressed\"),\n",
        "    (\"I've been enjoying life and feeling good about my future.\", \"Normal\"),\n",
        "    (\"I feel like I'm drowning in sadness, and there's no one to save me.\", \"Depressed\"),\n",
        "    (\"I'm happy with where I am in life and looking forward to new challenges.\", \"Normal\"),\n",
        "    (\"The sadness is overwhelming, and I can't escape it.\", \"Depressed\"),\n",
        "    (\"I've been feeling positive and excited about the future.\", \"Normal\"),\n",
        "    (\"I feel like I'm trapped in a never-ending cycle of sadness.\", \"Depressed\")\n",
        "]"
      ]
    },
    {
      "cell_type": "code",
      "source": [
        "#converting the dataset into a pandas Dataframe\n",
        "import pandas as pd\n",
        "df = pd.DataFrame(data,columns = [\"Text\",\"Label\"])\n",
        "print(df.head())"
      ],
      "metadata": {
        "colab": {
          "base_uri": "https://localhost:8080/"
        },
        "id": "s756pQmweHY6",
        "outputId": "35357d36-b08e-41ae-b52d-7da8d073f8ad"
      },
      "execution_count": null,
      "outputs": [
        {
          "output_type": "stream",
          "name": "stdout",
          "text": [
            "                                                Text      Label\n",
            "0  I've been feeling quite good lately, enjoying ...     Normal\n",
            "1  I don't feel like doing anything anymore. Ever...  Depressed\n",
            "2  I'm feeling pretty stable these days, not much...     Normal\n",
            "3  Waking up in the morning is a struggle. I feel...  Depressed\n",
            "4  I find pleasure in small things and feel conte...     Normal\n"
          ]
        }
      ]
    },
    {
      "cell_type": "code",
      "source": [
        "# Import required libraries\n",
        "from transformers import BertTokenizer  # Import BERT tokenizer from Hugging Face\n",
        "from datasets import Dataset  # Import Dataset class from Hugging Face datasets\n",
        "\n",
        "# Convert pandas dataframe to Hugging Face Dataset format\n",
        "# This enables efficient data processing and compatibility with transformers\n",
        "dataset = Dataset.from_pandas(df)\n",
        "\n",
        "# Initialize the BERT tokenizer\n",
        "# 'bert-base-uncased' is the pre-trained model we're using\n",
        "# Uncased means it converts all text to lowercase\n",
        "tokenizer = BertTokenizer.from_pretrained('bert-base-uncased')\n",
        "\n",
        "def tokenize_function(examples):\n",
        "    \"\"\"\n",
        "    Function to tokenize text data and prepare it for BERT model\n",
        "\n",
        "    Args:\n",
        "        examples: Dictionary containing the batch of examples to tokenize\n",
        "\n",
        "    Returns:\n",
        "        Dictionary containing tokenized inputs and labels\n",
        "    \"\"\"\n",
        "    # Tokenize the text with the following parameters:\n",
        "    # - padding='max_length': Pad all sequences to the same length\n",
        "    # - truncation=True: Cut longer sequences to fit max length\n",
        "    tokenized_data = tokenizer(examples['Text'], padding='max_length', truncation=True)\n",
        "\n",
        "    # Add labels to the tokenized data\n",
        "    # This preserves the label information for training\n",
        "    tokenized_data[\"labels\"] = examples[\"Label\"]\n",
        "\n",
        "    return tokenized_data\n",
        "\n",
        "# Apply tokenization to the entire dataset\n",
        "# batched=True enables processing multiple examples at once for better efficiency\n",
        "tokenized_datasets = dataset.map(tokenize_function, batched=True)"
      ],
      "metadata": {
        "colab": {
          "base_uri": "https://localhost:8080/",
          "height": 104,
          "referenced_widgets": [
            "e4e7d527877242e583ddc4670769d054",
            "c19d9c2a33ca46499742071e82655383",
            "b02e80507e6c450789ac526dcc454c69",
            "29eb442768444f27930f62a9eb25a65d",
            "860b8e0ecc60464d9f41f14303d75c40",
            "a426ab3f1714493788852d854141cfdd",
            "f6ea59fbe3b44930a060a78c6cf1812c",
            "43063727783c4b9caa9787f09bbefb87",
            "d5419c89b11f44bc8ca7a60ceba55a06",
            "041a5b2007e64ff7b30e3881a5bd0e2f",
            "d8a25c9b1bac42ab844634239ac5e2bd"
          ]
        },
        "id": "2DQpWwHueawO",
        "outputId": "95114688-9fd5-4c9a-a8a6-1a7e93674f18"
      },
      "execution_count": null,
      "outputs": [
        {
          "output_type": "stream",
          "name": "stderr",
          "text": [
            "/usr/local/lib/python3.10/dist-packages/transformers/tokenization_utils_base.py:1601: FutureWarning: `clean_up_tokenization_spaces` was not set. It will be set to `True` by default. This behavior will be depracted in transformers v4.45, and will be then set to `False` by default. For more details check this issue: https://github.com/huggingface/transformers/issues/31884\n",
            "  warnings.warn(\n"
          ]
        },
        {
          "output_type": "display_data",
          "data": {
            "text/plain": [
              "Map:   0%|          | 0/96 [00:00<?, ? examples/s]"
            ],
            "application/vnd.jupyter.widget-view+json": {
              "version_major": 2,
              "version_minor": 0,
              "model_id": "e4e7d527877242e583ddc4670769d054"
            }
          },
          "metadata": {}
        }
      ]
    },
    {
      "cell_type": "code",
      "source": [
        "#splitting into train and validation dataset\n",
        "train_test_split = tokenized_datasets.train_test_split(test_size=0.2)\n",
        "train_dataset = train_test_split['train']\n",
        "valid_dataset = train_test_split['test']"
      ],
      "metadata": {
        "id": "imEmt4F6fETl"
      },
      "execution_count": null,
      "outputs": []
    },
    {
      "cell_type": "code",
      "source": [
        "#mapping the classes to numbers\n",
        "label_mapping = {'Normal': 0, 'Depressed': 1}\n",
        "df['Label'] = df['Label'].map(label_mapping)"
      ],
      "metadata": {
        "id": "xBtNdaCchTBd"
      },
      "execution_count": null,
      "outputs": []
    },
    {
      "cell_type": "code",
      "source": [
        "from transformers import BertForSequenceClassification\n",
        "\n",
        "model = BertForSequenceClassification.from_pretrained('bert-base-uncased', num_labels=2)"
      ],
      "metadata": {
        "colab": {
          "base_uri": "https://localhost:8080/"
        },
        "id": "2LzreZRcfRuJ",
        "outputId": "70367844-6da5-498a-ed20-1cabc2ef2345"
      },
      "execution_count": null,
      "outputs": [
        {
          "output_type": "stream",
          "name": "stderr",
          "text": [
            "Some weights of BertForSequenceClassification were not initialized from the model checkpoint at bert-base-uncased and are newly initialized: ['classifier.bias', 'classifier.weight']\n",
            "You should probably TRAIN this model on a down-stream task to be able to use it for predictions and inference.\n"
          ]
        }
      ]
    },
    {
      "cell_type": "code",
      "source": [
        "# Define training arguments that control the training process\n",
        "training_args = TrainingArguments(\n",
        "    output_dir='./results',          # Directory to save model checkpoints and logs\n",
        "    evaluation_strategy=\"epoch\",     # Evaluate model after each epoch\n",
        "    learning_rate=2e-5,             # Small learning rate typical for BERT fine-tuning\n",
        "    per_device_train_batch_size=16,  # Number of training examples per batch per device\n",
        "    per_device_eval_batch_size=16,   # Number of evaluation examples per batch per device\n",
        "    num_train_epochs=3,             # Number of complete passes through the training data\n",
        "    weight_decay=0.01,              # L2 regularization to prevent overfitting\n",
        ")\n",
        "\n",
        "# Initialize the Trainer\n",
        "# This handles the training loop, optimization, and evaluation\n",
        "trainer = Trainer(\n",
        "    model=model,                    # The initialized model to train\n",
        "    args=training_args,             # Training arguments defined above\n",
        "    train_dataset=train_dataset,    # Dataset to use for training\n",
        "    eval_dataset=valid_dataset      # Dataset to use for evaluation\n",
        ")"
      ],
      "metadata": {
        "colab": {
          "base_uri": "https://localhost:8080/"
        },
        "id": "qpyVtTMFfnpJ",
        "outputId": "8afa5b01-2fd7-449f-a7c9-67fcee7df259"
      },
      "execution_count": null,
      "outputs": [
        {
          "output_type": "stream",
          "name": "stderr",
          "text": [
            "/usr/local/lib/python3.10/dist-packages/transformers/training_args.py:1525: FutureWarning: `evaluation_strategy` is deprecated and will be removed in version 4.46 of 🤗 Transformers. Use `eval_strategy` instead\n",
            "  warnings.warn(\n"
          ]
        }
      ]
    },
    {
      "cell_type": "code",
      "source": [
        "trainer.train() #training the model for 3 epochs"
      ],
      "metadata": {
        "colab": {
          "base_uri": "https://localhost:8080/",
          "height": 204
        },
        "id": "KTIHgw7HfpwL",
        "outputId": "223ef488-e631-4911-b280-08e09cd8afb7"
      },
      "execution_count": null,
      "outputs": [
        {
          "output_type": "display_data",
          "data": {
            "text/plain": [
              "<IPython.core.display.HTML object>"
            ],
            "text/html": [
              "\n",
              "    <div>\n",
              "      \n",
              "      <progress value='15' max='15' style='width:300px; height:20px; vertical-align: middle;'></progress>\n",
              "      [15/15 00:29, Epoch 3/3]\n",
              "    </div>\n",
              "    <table border=\"1\" class=\"dataframe\">\n",
              "  <thead>\n",
              " <tr style=\"text-align: left;\">\n",
              "      <th>Epoch</th>\n",
              "      <th>Training Loss</th>\n",
              "      <th>Validation Loss</th>\n",
              "    </tr>\n",
              "  </thead>\n",
              "  <tbody>\n",
              "    <tr>\n",
              "      <td>1</td>\n",
              "      <td>No log</td>\n",
              "      <td>0.416198</td>\n",
              "    </tr>\n",
              "    <tr>\n",
              "      <td>2</td>\n",
              "      <td>No log</td>\n",
              "      <td>0.367611</td>\n",
              "    </tr>\n",
              "    <tr>\n",
              "      <td>3</td>\n",
              "      <td>No log</td>\n",
              "      <td>0.341991</td>\n",
              "    </tr>\n",
              "  </tbody>\n",
              "</table><p>"
            ]
          },
          "metadata": {}
        },
        {
          "output_type": "execute_result",
          "data": {
            "text/plain": [
              "TrainOutput(global_step=15, training_loss=0.42359066009521484, metrics={'train_runtime': 32.0672, 'train_samples_per_second': 7.11, 'train_steps_per_second': 0.468, 'total_flos': 59989320622080.0, 'train_loss': 0.42359066009521484, 'epoch': 3.0})"
            ]
          },
          "metadata": {},
          "execution_count": 20
        }
      ]
    },
    {
      "cell_type": "code",
      "source": [
        "label_mapping_reverse = {0: \"Normal\", 1: \"Depressed\"}"
      ],
      "metadata": {
        "id": "UE9EnTvXiX_V"
      },
      "execution_count": null,
      "outputs": []
    },
    {
      "cell_type": "code",
      "source": [
        "# Import required libraries\n",
        "import torch  # For tensor operations\n",
        "import numpy as np  # For numerical operations\n",
        "from transformers import Trainer  # For making predictions with the trained model\n",
        "\n",
        "# Get predictions from the model using the validation dataset\n",
        "# This returns a 'PredictionOutput' object containing logits and other metrics\n",
        "predictions = trainer.predict(valid_dataset)\n",
        "\n",
        "# Extract the raw logits (unnormalized scores) from the predictions\n",
        "# Shape: [num_samples, num_classes]\n",
        "logits = predictions.predictions\n",
        "\n",
        "# Convert logits to probabilities using softmax\n",
        "# 1. Convert numpy array to PyTorch tensor\n",
        "# 2. Apply softmax along the last dimension (dim=-1) to get probabilities\n",
        "# 3. Convert back to numpy array for further processing\n",
        "probabilities = torch.nn.functional.softmax(torch.tensor(logits), dim=-1).numpy()\n",
        "\n",
        "# Get the predicted class labels by taking argmax of probabilities\n",
        "# axis=1 means we're finding the highest probability class for each sample\n",
        "predicted_labels = np.argmax(probabilities, axis=1)\n",
        "\n",
        "# Get confidence scores by taking the maximum probability for each prediction\n",
        "# These scores indicate how confident the model is in its predictions\n",
        "confidence_scores = np.max(probabilities, axis=1)\n",
        "\n",
        "# Print predictions and confidence scores for each sample\n",
        "for label, confidence in zip(predicted_labels, confidence_scores):\n",
        "    print(f\"Predicted Label: {label_mapping_reverse[label]}, Confidence Score: {confidence:.4f}\")"
      ],
      "metadata": {
        "colab": {
          "base_uri": "https://localhost:8080/",
          "height": 364
        },
        "id": "iQVP9yjEfzmQ",
        "outputId": "00bb38b3-b554-400c-ef54-80364fe76ad8"
      },
      "execution_count": null,
      "outputs": [
        {
          "output_type": "display_data",
          "data": {
            "text/plain": [
              "<IPython.core.display.HTML object>"
            ],
            "text/html": []
          },
          "metadata": {}
        },
        {
          "output_type": "stream",
          "name": "stdout",
          "text": [
            "Predicted Label: Depressed, Confidence Score: 0.7036\n",
            "Predicted Label: Depressed, Confidence Score: 0.7081\n",
            "Predicted Label: Depressed, Confidence Score: 0.6969\n",
            "Predicted Label: Normal, Confidence Score: 0.7843\n",
            "Predicted Label: Depressed, Confidence Score: 0.7124\n",
            "Predicted Label: Normal, Confidence Score: 0.7966\n",
            "Predicted Label: Depressed, Confidence Score: 0.7172\n",
            "Predicted Label: Depressed, Confidence Score: 0.7052\n",
            "Predicted Label: Depressed, Confidence Score: 0.7072\n",
            "Predicted Label: Depressed, Confidence Score: 0.7144\n",
            "Predicted Label: Depressed, Confidence Score: 0.6182\n",
            "Predicted Label: Depressed, Confidence Score: 0.7087\n",
            "Predicted Label: Normal, Confidence Score: 0.7832\n",
            "Predicted Label: Normal, Confidence Score: 0.7924\n",
            "Predicted Label: Normal, Confidence Score: 0.7837\n",
            "Predicted Label: Depressed, Confidence Score: 0.7004\n",
            "Predicted Label: Normal, Confidence Score: 0.7884\n",
            "Predicted Label: Depressed, Confidence Score: 0.6988\n",
            "Predicted Label: Normal, Confidence Score: 0.7459\n",
            "Predicted Label: Depressed, Confidence Score: 0.7154\n"
          ]
        }
      ]
    },
    {
      "cell_type": "code",
      "source": [],
      "metadata": {
        "id": "DZy5ri15iS0r"
      },
      "execution_count": null,
      "outputs": []
    }
  ]
}