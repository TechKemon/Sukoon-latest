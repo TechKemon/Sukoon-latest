{
  "nbformat": 4,
  "nbformat_minor": 0,
  "metadata": {
    "colab": {
      "provenance": []
    },
    "kernelspec": {
      "name": "python3",
      "display_name": "Python 3"
    },
    "language_info": {
      "name": "python"
    }
  },
  "cells": [
    {
      "cell_type": "code",
      "execution_count": 3,
      "metadata": {
        "colab": {
          "base_uri": "https://localhost:8080/"
        },
        "id": "k0eP4oatnKfo",
        "outputId": "71eb754a-2d4e-473d-87b2-51f099e3e66f"
      },
      "outputs": [
        {
          "output_type": "stream",
          "name": "stderr",
          "text": [
            "[nltk_data] Downloading package punkt to /root/nltk_data...\n",
            "[nltk_data]   Package punkt is already up-to-date!\n",
            "[nltk_data] Downloading package averaged_perceptron_tagger to\n",
            "[nltk_data]     /root/nltk_data...\n",
            "[nltk_data]   Unzipping taggers/averaged_perceptron_tagger.zip.\n"
          ]
        },
        {
          "output_type": "stream",
          "name": "stdout",
          "text": [
            "Original Comments:\n",
            " 0    I've been feeling quite good lately, enjoying ...\n",
            "1    I don't feel like doing anything anymore. Ever...\n",
            "2    I'm feeling pretty stable these days, not much...\n",
            "3    Waking up in the morning is a struggle. I feel...\n",
            "4    I find pleasure in small things and feel conte...\n",
            "Name: Comment, dtype: object \n",
            "\n",
            "Cleaned Comments:\n",
            " 0    ive been feeling quite good lately enjoying my...\n",
            "1    i dont feel like doing anything anymore everyt...\n",
            "2    im feeling pretty stable these days not much b...\n",
            "3    waking up in the morning is a struggle i feel ...\n",
            "4    i find pleasure in small things and feel conte...\n",
            "Name: Cleaned_Comment, dtype: object \n",
            "\n",
            "Tokenized Comments:\n",
            " 0    [ive, feeling, quite, good, lately, enjoying, ...\n",
            "1    [dont, feel, like, anything, anymore, everythi...\n",
            "2    [im, feeling, pretty, stable, days, much, both...\n",
            "3    [waking, morning, struggle, feel, drained, empty]\n",
            "4    [find, pleasure, small, things, feel, content,...\n",
            "Name: Tokens, dtype: object \n",
            "\n",
            "Bag of Words Representation:\n",
            "    able  about  achievements  achieving  all  alone  always  am  and  anymore  \\\n",
            "0     0      0             0          0    0      0       0   0    1        0   \n",
            "1     0      0             0          0    0      0       0   0    0        1   \n",
            "2     0      0             0          0    0      0       0   0    0        0   \n",
            "3     0      0             0          0    0      0       0   0    1        0   \n",
            "4     0      0             0          0    0      0       0   0    1        0   \n",
            "\n",
            "   ...  what  whats  where  with  without  wont  work  worklife  world  \\\n",
            "0  ...     0      0      0     1        0     0     0         0      0   \n",
            "1  ...     0      0      0     0        0     0     0         0      0   \n",
            "2  ...     0      0      0     0        0     0     0         0      0   \n",
            "3  ...     0      0      0     0        0     0     0         0      0   \n",
            "4  ...     0      0      0     1        0     0     0         0      0   \n",
            "\n",
            "   worthless  \n",
            "0          0  \n",
            "1          0  \n",
            "2          0  \n",
            "3          0  \n",
            "4          0  \n",
            "\n",
            "[5 rows x 252 columns] \n",
            "\n"
          ]
        },
        {
          "output_type": "stream",
          "name": "stderr",
          "text": [
            "[nltk_data] Downloading package stopwords to /root/nltk_data...\n",
            "[nltk_data]   Package stopwords is already up-to-date!\n"
          ]
        }
      ],
      "source": [
        "import pandas as pd\n",
        "import re\n",
        "import nltk\n",
        "from nltk.corpus import stopwords\n",
        "from nltk.tokenize import word_tokenize\n",
        "from sklearn.feature_extraction.text import CountVectorizer, TfidfVectorizer\n",
        "from sklearn.cluster import KMeans\n",
        "from collections import Counter\n",
        "\n",
        "# Download NLTK data (only required once)\n",
        "nltk.download('punkt')\n",
        "nltk.download('averaged_perceptron_tagger')\n",
        "nltk.download('stopwords')\n",
        "\n",
        "# Complete dataset\n",
        "data = [\n",
        "    (\"I've been feeling quite good lately, enjoying my hobbies and spending time with friends.\", \"Normal\"),\n",
        "    (\"I don't feel like doing anything anymore. Everything seems pointless.\", \"Depressed\"),\n",
        "    (\"I'm feeling pretty stable these days, not much bothers me.\", \"Normal\"),\n",
        "    (\"Waking up in the morning is a struggle. I feel drained and empty.\", \"Depressed\"),\n",
        "    (\"I find pleasure in small things and feel content with my life.\", \"Normal\"),\n",
        "    (\"Nothing interests me anymore, and I can't shake this feeling of sadness.\", \"Depressed\"),\n",
        "    (\"I've been productive and focused, achieving my goals without much stress.\", \"Normal\"),\n",
        "    (\"Every day feels the same, and I just want to disappear.\", \"Depressed\"),\n",
        "    (\"I feel connected with my loved ones and enjoy our time together.\", \"Normal\"),\n",
        "    (\"It's hard to even get out of bed; everything feels heavy and overwhelming.\", \"Depressed\"),\n",
        "    (\"My mood has been stable, and I'm coping well with daily challenges.\", \"Normal\"),\n",
        "    (\"I don't see the point in talking to anyone. I feel so isolated and alone.\", \"Depressed\"),\n",
        "    (\"I've been laughing more and feeling optimistic about the future.\", \"Normal\"),\n",
        "    (\"Nothing makes me happy anymore; I feel numb.\", \"Depressed\"),\n",
        "    (\"I'm at peace with where I am in life and look forward to what's next.\", \"Normal\"),\n",
        "    (\"I cry for no reason, and the sadness won't go away.\", \"Depressed\"),\n",
        "    (\"I feel energized and motivated to take on new projects.\", \"Normal\"),\n",
        "    (\"It's like a dark cloud is hanging over me, and I can't escape it.\", \"Depressed\"),\n",
        "    (\"I've been feeling emotionally balanced and content.\", \"Normal\"),\n",
        "    (\"I don't care about anything anymore. Life just feels so bleak.\", \"Depressed\"),\n",
        "    (\"I'm happy with my life and the progress I'm making.\", \"Normal\"),\n",
        "    (\"The sadness never leaves, and I feel hopeless all the time.\", \"Depressed\"),\n",
        "    (\"I've been enjoying my work and feeling satisfied with my achievements.\", \"Normal\"),\n",
        "    (\"I feel like I'm drowning in despair and can't find a way out.\", \"Depressed\"),\n",
        "    (\"I'm feeling well and enjoying time with my family.\", \"Normal\"),\n",
        "    (\"I don't see a future for myself; everything seems so dark.\", \"Depressed\"),\n",
        "    (\"I'm able to relax and enjoy my free time.\", \"Normal\"),\n",
        "    (\"It's hard to even smile; I feel so down and out.\", \"Depressed\"),\n",
        "    (\"I've been feeling calm and at ease with my life.\", \"Normal\"),\n",
        "    (\"The weight of my thoughts is crushing me, and I feel so low.\", \"Depressed\"),\n",
        "    (\"I'm looking forward to the weekend and spending time outdoors.\", \"Normal\"),\n",
        "    (\"I can't find joy in anything; I feel so empty inside.\", \"Depressed\"),\n",
        "    (\"I've been feeling good about my relationships and personal growth.\", \"Normal\"),\n",
        "    (\"The sadness is overwhelming, and I can't see a way through it.\", \"Depressed\"),\n",
        "    (\"I feel relaxed and content with how things are going.\", \"Normal\"),\n",
        "    (\"I can't stop thinking about how worthless I feel.\", \"Depressed\"),\n",
        "    (\"I've been in a positive mood and enjoying life's little moments.\", \"Normal\"),\n",
        "    (\"I feel so detached from everything, like I'm just going through the motions.\", \"Depressed\"),\n",
        "    (\"I've been handling stress well and staying optimistic.\", \"Normal\"),\n",
        "    (\"It's like a constant fog of sadness that won't lift.\", \"Depressed\"),\n",
        "    (\"I'm enjoying my hobbies and finding fulfillment in my daily routine.\", \"Normal\"),\n",
        "    (\"I feel so lost and hopeless, like there's no point in anything.\", \"Depressed\"),\n",
        "    (\"I've been feeling happy and content with my progress in life.\", \"Normal\"),\n",
        "    (\"I don't want to be around people; I just want to be alone in my sadness.\", \"Depressed\"),\n",
        "    (\"I'm in a good place emotionally, feeling positive and hopeful.\", \"Normal\"),\n",
        "    (\"Everything feels meaningless, and I can't escape the sadness.\", \"Depressed\"),\n",
        "    (\"I've been feeling good about myself and my future.\", \"Normal\"),\n",
        "    (\"I can't find the strength to face the day; everything feels so dark.\", \"Depressed\"),\n",
        "    (\"I'm at peace with my life and enjoying my time with loved ones.\", \"Normal\"),\n",
        "    (\"I feel like I'm just existing, not really living.\", \"Depressed\"),\n",
        "    (\"I've been feeling upbeat and looking forward to new experiences.\", \"Normal\"),\n",
        "    (\"The sadness never leaves, and I feel like I'm stuck in a dark hole.\", \"Depressed\"),\n",
        "    (\"I'm enjoying my life and feel grateful for what I have.\", \"Normal\"),\n",
        "    (\"I can't seem to escape these negative thoughts; they consume me.\", \"Depressed\"),\n",
        "    (\"I'm feeling positive about my future and the direction I'm heading.\", \"Normal\"),\n",
        "    (\"It's hard to get through the day without feeling completely overwhelmed.\", \"Depressed\"),\n",
        "    (\"I'm feeling good about where I am and the progress I'm making.\", \"Normal\"),\n",
        "    (\"I feel so disconnected from the world around me.\", \"Depressed\"),\n",
        "    (\"I've been happy and content with my work-life balance.\", \"Normal\"),\n",
        "    (\"Nothing brings me joy anymore, and I feel so empty.\", \"Depressed\"),\n",
        "    (\"I'm satisfied with how things are going in my life.\", \"Normal\"),\n",
        "    (\"The sadness is relentless, and I can't seem to shake it off.\", \"Depressed\"),\n",
        "    (\"I've been feeling good about my health and overall well-being.\", \"Normal\"),\n",
        "    (\"I feel like I'm trapped in my own mind, and I can't get out.\", \"Depressed\"),\n",
        "    (\"I've been content with my life and enjoying my daily routine.\", \"Normal\"),\n",
        "    (\"Everything feels so heavy, like I'm carrying the weight of the world.\", \"Depressed\"),\n",
        "    (\"I'm in a good mood and feeling positive about the future.\", \"Normal\"),\n",
        "    (\"The sadness is overwhelming, and I feel so alone.\", \"Depressed\"),\n",
        "    (\"I've been feeling emotionally stable and content with my life.\", \"Normal\"),\n",
        "    (\"I feel like I'm drowning in a sea of sadness, and there's no way out.\", \"Depressed\"),\n",
        "    (\"I've been feeling good and enjoying the little things in life.\", \"Normal\"),\n",
        "    (\"I feel so hopeless and can't find a way to move forward.\", \"Depressed\"),\n",
        "    (\"I'm feeling positive about the direction my life is taking.\", \"Normal\"),\n",
        "    (\"The sadness is always there, lurking in the background.\", \"Depressed\"),\n",
        "    (\"I've been feeling well and content with where I am in life.\", \"Normal\"),\n",
        "    (\"I feel like I'm just going through the motions, not really living.\", \"Depressed\"),\n",
        "    (\"I'm happy with how things are going in my life and feel at peace.\", \"Normal\"),\n",
        "    (\"The sadness is overwhelming, and I can't escape it.\", \"Depressed\"),\n",
        "    (\"I've been feeling optimistic about the future and excited about new opportunities.\", \"Normal\"),\n",
        "    (\"I feel so empty inside, like nothing matters anymore.\", \"Depressed\"),\n",
        "    (\"I'm satisfied with how things are going and feeling positive about the future.\", \"Normal\"),\n",
        "    (\"The sadness is suffocating, and I can't breathe.\", \"Depressed\"),\n",
        "    (\"I've been feeling happy and content with my relationships and personal growth.\", \"Normal\"),\n",
        "    (\"I feel like I'm stuck in a dark place, and I can't find a way out.\", \"Depressed\"),\n",
        "    (\"I've been feeling good about my life and the direction I'm heading.\", \"Normal\"),\n",
        "    (\"The sadness is overwhelming, and I can't escape this darkness.\", \"Depressed\"),\n",
        "    (\"I'm feeling positive and looking forward to the future.\", \"Normal\"),\n",
        "    (\"I feel so lost and alone, like no one understands me.\", \"Depressed\"),\n",
        "    (\"I've been feeling content with my life and the progress I've made.\", \"Normal\"),\n",
        "    (\"The sadness never leaves, and I can't see a way out.\", \"Depressed\"),\n",
        "    (\"I've been enjoying life and feeling good about my future.\", \"Normal\"),\n",
        "    (\"I feel like I'm drowning in sadness, and there's no one to save me.\", \"Depressed\"),\n",
        "    (\"I'm happy with where I am in life and looking forward to new challenges.\", \"Normal\"),\n",
        "    (\"The sadness is overwhelming, and I can't escape it.\", \"Depressed\"),\n",
        "    (\"I've been feeling positive and excited about the future.\", \"Normal\"),\n",
        "    (\"I feel like I'm trapped in a never-ending cycle of sadness.\", \"Depressed\")\n",
        "]\n",
        "\n",
        "# Convert to DataFrame\n",
        "df = pd.DataFrame(data, columns=['Comment', 'Label'])\n",
        "\n",
        "# Function to clean text\n",
        "def clean_text(text):\n",
        "    text = text.lower()  # Convert to lowercase\n",
        "    text = re.sub(r'\\d+', '', text)  # Remove numbers\n",
        "    text = re.sub(r'[^\\w\\s]', '', text)  # Remove punctuation\n",
        "    text = re.sub(r'\\s+', ' ', text).strip()  # Remove extra spaces\n",
        "    return text\n",
        "\n",
        "# Apply text cleaning\n",
        "df['Cleaned_Comment'] = df['Comment'].apply(clean_text)\n",
        "\n",
        "# Tokenization\n",
        "df['Tokens'] = df['Cleaned_Comment'].apply(word_tokenize)\n",
        "\n",
        "# Remove stopwords\n",
        "stop_words = set(stopwords.words('english'))\n",
        "df['Tokens'] = df['Tokens'].apply(lambda tokens: [word for word in tokens if word not in stop_words])\n",
        "\n",
        "# Vectorization (Bag of Words)\n",
        "vectorizer = CountVectorizer()\n",
        "X = vectorizer.fit_transform(df['Cleaned_Comment'])\n",
        "\n",
        "# Convert to DataFrame for better readability\n",
        "bow_df = pd.DataFrame(X.toarray(), columns=vectorizer.get_feature_names_out())\n",
        "\n",
        "# Display results\n",
        "print(\"Original Comments:\\n\", df['Comment'].head(), \"\\n\")\n",
        "print(\"Cleaned Comments:\\n\", df['Cleaned_Comment'].head(), \"\\n\")\n",
        "print(\"Tokenized Comments:\\n\", df['Tokens'].head(), \"\\n\")\n",
        "print(\"Bag of Words Representation:\\n\", bow_df.head(), \"\\n\")\n"
      ]
    },
    {
      "cell_type": "code",
      "source": [
        "# Feature Engineering: Part-of-Speech (POS) Tagging\n",
        "df['POS_Tags'] = df['Tokens'].apply(nltk.pos_tag)\n",
        "print(\"POS Tags:\\n\", df['POS_Tags'].head(), \"\\n\")"
      ],
      "metadata": {
        "colab": {
          "base_uri": "https://localhost:8080/"
        },
        "id": "KFAnSU0znM3W",
        "outputId": "b4bbb920-f941-4630-985a-0b84855093e0"
      },
      "execution_count": 4,
      "outputs": [
        {
          "output_type": "stream",
          "name": "stdout",
          "text": [
            "POS Tags:\n",
            " 0    [(ive, JJ), (feeling, NN), (quite, RB), (good,...\n",
            "1    [(dont, JJ), (feel, NN), (like, IN), (anything...\n",
            "2    [(im, NN), (feeling, VBG), (pretty, RB), (stab...\n",
            "3    [(waking, VBG), (morning, NN), (struggle, NN),...\n",
            "4    [(find, VB), (pleasure, NN), (small, JJ), (thi...\n",
            "Name: POS_Tags, dtype: object \n",
            "\n"
          ]
        }
      ]
    },
    {
      "cell_type": "code",
      "source": [
        "# Unigrams\n",
        "vectorizer_uni = CountVectorizer(ngram_range=(1, 1))\n",
        "X_uni = vectorizer_uni.fit_transform(df['Cleaned_Comment'])\n",
        "print(\"Unigrams:\\n\", pd.DataFrame(X_uni.toarray(), columns=vectorizer_uni.get_feature_names_out()).head(), \"\\n\")"
      ],
      "metadata": {
        "colab": {
          "base_uri": "https://localhost:8080/"
        },
        "id": "8ncI2LAGoM1z",
        "outputId": "71fc7d36-5fee-44e8-f4ad-fd3129148029"
      },
      "execution_count": 5,
      "outputs": [
        {
          "output_type": "stream",
          "name": "stdout",
          "text": [
            "Unigrams:\n",
            "    able  about  achievements  achieving  all  alone  always  am  and  anymore  \\\n",
            "0     0      0             0          0    0      0       0   0    1        0   \n",
            "1     0      0             0          0    0      0       0   0    0        1   \n",
            "2     0      0             0          0    0      0       0   0    0        0   \n",
            "3     0      0             0          0    0      0       0   0    1        0   \n",
            "4     0      0             0          0    0      0       0   0    1        0   \n",
            "\n",
            "   ...  what  whats  where  with  without  wont  work  worklife  world  \\\n",
            "0  ...     0      0      0     1        0     0     0         0      0   \n",
            "1  ...     0      0      0     0        0     0     0         0      0   \n",
            "2  ...     0      0      0     0        0     0     0         0      0   \n",
            "3  ...     0      0      0     0        0     0     0         0      0   \n",
            "4  ...     0      0      0     1        0     0     0         0      0   \n",
            "\n",
            "   worthless  \n",
            "0          0  \n",
            "1          0  \n",
            "2          0  \n",
            "3          0  \n",
            "4          0  \n",
            "\n",
            "[5 rows x 252 columns] \n",
            "\n"
          ]
        }
      ]
    },
    {
      "cell_type": "code",
      "source": [
        "# Bigrams\n",
        "vectorizer_bi = CountVectorizer(ngram_range=(2, 2))\n",
        "X_bi = vectorizer_bi.fit_transform(df['Cleaned_Comment'])"
      ],
      "metadata": {
        "id": "AQTX3RFNoYvE"
      },
      "execution_count": 6,
      "outputs": []
    },
    {
      "cell_type": "code",
      "source": [
        "# Trigrams\n",
        "vectorizer_tri = CountVectorizer(ngram_range=(3, 3))\n",
        "X_tri = vectorizer_tri.fit_transform(df['Cleaned_Comment'])"
      ],
      "metadata": {
        "id": "Qf5seCyqoe-b"
      },
      "execution_count": 7,
      "outputs": []
    },
    {
      "cell_type": "code",
      "source": [
        "# Feature Engineering: TF-IDF Vectorization (alternative to N-grams)\n",
        "tfidf_vectorizer = TfidfVectorizer(ngram_range=(1, 3))\n",
        "X_tfidf = tfidf_vectorizer.fit_transform(df['Cleaned_Comment'])"
      ],
      "metadata": {
        "id": "-kvTL-5copm0"
      },
      "execution_count": 9,
      "outputs": []
    },
    {
      "cell_type": "code",
      "source": [
        "# Feature Engineering: Clustering (using KMeans)\n",
        "num_clusters = 2  # Assuming 2 clusters: Normal and Depressed\n",
        "kmeans = KMeans(n_clusters=num_clusters, random_state=42)\n",
        "df['Cluster'] = kmeans.fit_predict(X_tfidf)"
      ],
      "metadata": {
        "colab": {
          "base_uri": "https://localhost:8080/"
        },
        "id": "_Sitc42foh5b",
        "outputId": "c868200f-18e3-4995-fd47-e7ee3933321c"
      },
      "execution_count": 10,
      "outputs": [
        {
          "output_type": "stream",
          "name": "stderr",
          "text": [
            "/usr/local/lib/python3.10/dist-packages/sklearn/cluster/_kmeans.py:1416: FutureWarning: The default value of `n_init` will change from 10 to 'auto' in 1.4. Set the value of `n_init` explicitly to suppress the warning\n",
            "  super()._check_params_vs_input(X, default_n_init=10)\n"
          ]
        }
      ]
    },
    {
      "cell_type": "code",
      "source": [
        "print(\"Bigrams:\\n\", pd.DataFrame(X_bi.toarray(), columns=vectorizer_bi.get_feature_names_out()).head(), \"\\n\")\n",
        "print(\"Trigrams:\\n\", pd.DataFrame(X_tri.toarray(), columns=vectorizer_tri.get_feature_names_out()).head(), \"\\n\")\n",
        "print(\"TF-IDF Features:\\n\", pd.DataFrame(X_tfidf.toarray(), columns=tfidf_vectorizer.get_feature_names_out()).head(), \"\\n\")\n",
        "print(\"Clustering Results (Cluster Labels):\\n\", df[['Comment', 'Cluster']].head(), \"\\n\")"
      ],
      "metadata": {
        "colab": {
          "base_uri": "https://localhost:8080/"
        },
        "id": "m8i0SFYcollD",
        "outputId": "994f2cd4-7f17-483b-8789-898f2e72f3d9"
      },
      "execution_count": 11,
      "outputs": [
        {
          "output_type": "stream",
          "name": "stdout",
          "text": [
            "Bigrams:\n",
            "    able to  about anything  about how  about my  about myself  about new  \\\n",
            "0        0               0          0         0             0          0   \n",
            "1        0               0          0         0             0          0   \n",
            "2        0               0          0         0             0          0   \n",
            "3        0               0          0         0             0          0   \n",
            "4        0               0          0         0             0          0   \n",
            "\n",
            "   about the  about where  achieving my  all the  ...  with my  with where  \\\n",
            "0          0            0             0        0  ...        0           0   \n",
            "1          0            0             0        0  ...        0           0   \n",
            "2          0            0             0        0  ...        0           0   \n",
            "3          0            0             0        0  ...        0           0   \n",
            "4          0            0             0        0  ...        1           0   \n",
            "\n",
            "   without feeling  without much  wont go  wont lift  work and  \\\n",
            "0                0             0        0          0         0   \n",
            "1                0             0        0          0         0   \n",
            "2                0             0        0          0         0   \n",
            "3                0             0        0          0         0   \n",
            "4                0             0        0          0         0   \n",
            "\n",
            "   worklife balance  world around  worthless feel  \n",
            "0                 0             0               0  \n",
            "1                 0             0               0  \n",
            "2                 0             0               0  \n",
            "3                 0             0               0  \n",
            "4                 0             0               0  \n",
            "\n",
            "[5 rows x 501 columns] \n",
            "\n",
            "Trigrams:\n",
            "    able to relax  about anything anymore  about how worthless  \\\n",
            "0              0                       0                    0   \n",
            "1              0                       0                    0   \n",
            "2              0                       0                    0   \n",
            "3              0                       0                    0   \n",
            "4              0                       0                    0   \n",
            "\n",
            "   about my future  about my health  about my life  about my relationships  \\\n",
            "0                0                0              0                       0   \n",
            "1                0                0              0                       0   \n",
            "2                0                0              0                       0   \n",
            "3                0                0              0                       0   \n",
            "4                0                0              0                       0   \n",
            "\n",
            "   about myself and  about new opportunities  about the direction  ...  \\\n",
            "0                 0                        0                    0  ...   \n",
            "1                 0                        0                    0  ...   \n",
            "2                 0                        0                    0  ...   \n",
            "3                 0                        0                    0  ...   \n",
            "4                 0                        0                    0  ...   \n",
            "\n",
            "   with my loved  with my progress  with my relationships  with my worklife  \\\n",
            "0              0                 0                      0                 0   \n",
            "1              0                 0                      0                 0   \n",
            "2              0                 0                      0                 0   \n",
            "3              0                 0                      0                 0   \n",
            "4              0                 0                      0                 0   \n",
            "\n",
            "   with where am  without feeling completely  without much stress  \\\n",
            "0              0                           0                    0   \n",
            "1              0                           0                    0   \n",
            "2              0                           0                    0   \n",
            "3              0                           0                    0   \n",
            "4              0                           0                    0   \n",
            "\n",
            "   wont go away  work and feeling  world around me  \n",
            "0             0                 0                0  \n",
            "1             0                 0                0  \n",
            "2             0                 0                0  \n",
            "3             0                 0                0  \n",
            "4             0                 0                0  \n",
            "\n",
            "[5 rows x 596 columns] \n",
            "\n",
            "TF-IDF Features:\n",
            "    able  able to  able to relax  about  about anything  \\\n",
            "0   0.0      0.0            0.0    0.0             0.0   \n",
            "1   0.0      0.0            0.0    0.0             0.0   \n",
            "2   0.0      0.0            0.0    0.0             0.0   \n",
            "3   0.0      0.0            0.0    0.0             0.0   \n",
            "4   0.0      0.0            0.0    0.0             0.0   \n",
            "\n",
            "   about anything anymore  about how  about how worthless  about my  \\\n",
            "0                     0.0        0.0                  0.0       0.0   \n",
            "1                     0.0        0.0                  0.0       0.0   \n",
            "2                     0.0        0.0                  0.0       0.0   \n",
            "3                     0.0        0.0                  0.0       0.0   \n",
            "4                     0.0        0.0                  0.0       0.0   \n",
            "\n",
            "   about my future  ...  work  work and  work and feeling  worklife  \\\n",
            "0              0.0  ...   0.0       0.0               0.0       0.0   \n",
            "1              0.0  ...   0.0       0.0               0.0       0.0   \n",
            "2              0.0  ...   0.0       0.0               0.0       0.0   \n",
            "3              0.0  ...   0.0       0.0               0.0       0.0   \n",
            "4              0.0  ...   0.0       0.0               0.0       0.0   \n",
            "\n",
            "   worklife balance  world  world around  world around me  worthless  \\\n",
            "0               0.0    0.0           0.0              0.0        0.0   \n",
            "1               0.0    0.0           0.0              0.0        0.0   \n",
            "2               0.0    0.0           0.0              0.0        0.0   \n",
            "3               0.0    0.0           0.0              0.0        0.0   \n",
            "4               0.0    0.0           0.0              0.0        0.0   \n",
            "\n",
            "   worthless feel  \n",
            "0             0.0  \n",
            "1             0.0  \n",
            "2             0.0  \n",
            "3             0.0  \n",
            "4             0.0  \n",
            "\n",
            "[5 rows x 1349 columns] \n",
            "\n",
            "Clustering Results (Cluster Labels):\n",
            "                                              Comment  Cluster\n",
            "0  I've been feeling quite good lately, enjoying ...        1\n",
            "1  I don't feel like doing anything anymore. Ever...        0\n",
            "2  I'm feeling pretty stable these days, not much...        0\n",
            "3  Waking up in the morning is a struggle. I feel...        0\n",
            "4  I find pleasure in small things and feel conte...        1 \n",
            "\n"
          ]
        }
      ]
    },
    {
      "cell_type": "code",
      "source": [],
      "metadata": {
        "id": "04KKNmYgowwq"
      },
      "execution_count": null,
      "outputs": []
    }
  ]
}